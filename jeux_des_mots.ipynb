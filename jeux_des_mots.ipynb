{
 "cells": [
  {
   "cell_type": "markdown",
   "id": "b58dab25",
   "metadata": {},
   "source": [
    "**Le jeu des mots**\n",
    "\n",
    "L'ojectif de code est de dicter un nombre 10 mots à intervalles de 3 secondes pendant 30 secondes (tous ces paramètres sont modulables). L'algorithme puise ses mots dans un fichier csv de mots français, celui-ci peut-être modifié en fonction du besoin.\n",
    "\n",
    "Les règles du jeux : \n",
    "- Dessinez un grille de 10 cases sur votre feuille.\n",
    "- Lancer l'algorithm vous aurez alors 3 secondes pour dessiner chaque mot.\n",
    "- A la fin des 30 secondes vous aurez 10 dessins que vous devrez identifier, la correction est disponible une fois que les 30 secondes sont écoulées.\n",
    "- A vous de jouer :)"
   ]
  },
  {
   "cell_type": "code",
   "execution_count": 9,
   "id": "34a0ddb4",
   "metadata": {},
   "outputs": [],
   "source": [
    "#pip install pyttsx3"
   ]
  },
  {
   "cell_type": "code",
   "execution_count": 10,
   "id": "44e458bb",
   "metadata": {},
   "outputs": [],
   "source": [
    "#Importation des librairies\n",
    "\n",
    "import pandas as pd\n",
    "import random\n",
    "import time\n",
    "import sys\n",
    "import pyttsx3"
   ]
  },
  {
   "cell_type": "code",
   "execution_count": 11,
   "id": "afcf1b47",
   "metadata": {},
   "outputs": [],
   "source": [
    "#Lecture du fichier cvs\n",
    "\n",
    "data = pd.read_excel(\"mots_fr.xlsx\")"
   ]
  },
  {
   "cell_type": "code",
   "execution_count": 12,
   "id": "f0c1a3bb",
   "metadata": {},
   "outputs": [
    {
     "name": "stdout",
     "output_type": "stream",
     "text": [
      "['1 buisson', '2 libre', '3 os', '4 gouter', '5 poucette', '6 stylo', '7 electrique', '8 langue', '9 chaise', '10 puit']\n"
     ]
    }
   ],
   "source": [
    "#Code avec dictée\n",
    "\n",
    "def random_mot_every_3_seconds():\n",
    "    liste_mots = data['mot'].tolist()\n",
    "    liste_numero = []\n",
    "    start_time = time.time()\n",
    "    chiffre = 1\n",
    "\n",
    "    while time.time() - start_time < 30:\n",
    "        mot_aleatoire = random.choice(liste_mots)\n",
    "        \n",
    "        # Afficher le mot\n",
    "        sys.stdout.write(f\"\\r{chiffre}. {mot_aleatoire}\")\n",
    "        sys.stdout.flush()  # S'assurer que le texte est bien affiché\n",
    "\n",
    "        # Initialiser pyttsx3 et dire le mot\n",
    "        engine = pyttsx3.init()  # Réinitialiser le moteur à chaque itération\n",
    "        engine.say(mot_aleatoire)\n",
    "        engine.runAndWait()\n",
    "        \n",
    "        # Ajouter le mot à la liste avec son numéro\n",
    "        liste_numero.append(f\"{chiffre} {mot_aleatoire}\")\n",
    "        chiffre += 1\n",
    "\n",
    "        time.sleep(1.5)  # Attendre 3 secondes avant de passer au mot suivant\n",
    "        sys.stdout.write(\"\\r\" + \" \" * 50 + \"\\r\")  # Efface la ligne entière\n",
    "\n",
    "    print(liste_numero)\n",
    "\n",
    "# Exemple d'appel de la fonction\n",
    "random_mot_every_3_seconds()\n"
   ]
  },
  {
   "cell_type": "markdown",
   "id": "8c663450",
   "metadata": {},
   "source": [
    "Une version du code est disponible sans dictée si vous préférez lire les mots plutôt que les entendre."
   ]
  },
  {
   "cell_type": "code",
   "execution_count": null,
   "id": "b15eeb00",
   "metadata": {},
   "outputs": [
    {
     "name": "stdout",
     "output_type": "stream",
     "text": [
      "['1 machine', '2 gouter', '3 kayak', '4 écran', '5 machine', '6 bougie', '7 ciel', '8 rayon', '9 araignée', '10 France']\n"
     ]
    }
   ],
   "source": [
    "# #code sans dictée\n",
    "\n",
    "# def random_mot_every_3_seconds():\n",
    "#     liste_mots = data['mot'].tolist()\n",
    "#     liste_numero=[]\n",
    "#     start_time = time.time()\n",
    "#     chiffre = 1\n",
    "\n",
    "\n",
    "#     while time.time() - start_time < 30:\n",
    "#         mot_aleatoire = random.choice(liste_mots)\n",
    "#         # Afficher le mot\n",
    "#         sys.stdout.write(f\"\\r{chiffre}. {mot_aleatoire}\")\n",
    "#         sys.stdout.flush()  # S'assurer que le texte est bien affiché\n",
    "\n",
    "#         #print(chiffre, mot_aleatoire)\n",
    "#         liste_numero.append(f\"{chiffre} {mot_aleatoire}\")\n",
    "#         chiffre = chiffre + 1\n",
    "#         time.sleep(3)\n",
    "#         sys.stdout.write(\"\\r\" + \" \" * 50 + \"\\r\")  # Efface la ligne entière\n",
    "\n",
    "#     print(liste_numero)\n",
    "\n",
    "# random_mot_every_3_seconds()"
   ]
  }
 ],
 "metadata": {
  "kernelspec": {
   "display_name": "Python 3",
   "language": "python",
   "name": "python3"
  },
  "language_info": {
   "codemirror_mode": {
    "name": "ipython",
    "version": 3
   },
   "file_extension": ".py",
   "mimetype": "text/x-python",
   "name": "python",
   "nbconvert_exporter": "python",
   "pygments_lexer": "ipython3",
   "version": "3.10.11"
  }
 },
 "nbformat": 4,
 "nbformat_minor": 5
}
